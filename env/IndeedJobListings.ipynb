{
 "cells": [
  {
   "cell_type": "code",
   "execution_count": 3,
   "id": "8bd0fa0e-2736-43a8-857f-973af9e791cc",
   "metadata": {},
   "outputs": [],
   "source": [
    "from selenium import webdriver\n",
    "from selenium.webdriver.common.by import By\n",
    "from selenium.webdriver.chrome.service import Service\n",
    "from bs4 import BeautifulSoup\n",
    "import psycopg2\n",
    "import time"
   ]
  },
  {
   "cell_type": "code",
   "execution_count": 7,
   "id": "a2ab1070-e7ba-4e72-9112-4e3494c59835",
   "metadata": {},
   "outputs": [],
   "source": [
    "service = Service(r'C:\\Users\\Administrator\\OneDrive\\Documents\\Projects\\Data Analysis Bootcamp by Lux\\JobListings\\chromedriver-win64\\chromedriver.exe')\n",
    "driver = webdriver.Chrome(service=service)"
   ]
  },
  {
   "cell_type": "code",
   "execution_count": 8,
   "id": "752a2c4a-5cff-4ca4-8c9a-39f07954fdea",
   "metadata": {},
   "outputs": [],
   "source": [
    "job_titles = [\"Data Analyst\",\"Data Engineer\", \"Data Scientist\", \"Python Developer\",\"Machine Learning Engineer\"]\n",
    "base_url = \"https://www.indeed.com/jobs?q=&l=Remote&from=searchOnHP&vjk=8e45d181912e40ec\""
   ]
  },
  {
   "cell_type": "code",
   "execution_count": 11,
   "id": "f4dbceb4-5dae-4bea-8f37-a650b6e5b784",
   "metadata": {},
   "outputs": [],
   "source": [
    "def scrape_jobs(job_title):\n",
    "    jobs = []\n",
    "    url = base_url.format(job_title.replace('','+'))\n",
    "    driver.get(url)\n",
    "    time.sleep(3)\n",
    "\n",
    "    soup = BeautifulSoup(driver.page_source,'html.parser')\n",
    "    job_cards = soup.find_all('div', class_ = 'jobsearch-SerpJobCard')\n",
    "\n",
    "    for job_card in job_cards:\n",
    "        job = {}\n",
    "        job['title'] = job_card.find('h2', class_ = 'title').text.strip()\n",
    "        job['company'] = job_card.find('span', class_ = 'company').text.strip()\n",
    "        job['location'] = job_card.find('div', class_ = 'recJobLoc').get('data-rc-loc')\n",
    "        job['summary'] = job_card.find('div', class_ = 'summary').text.strip()\n",
    "        job['salary'] = job_card.find('span', class_ = 'salaryText').text.strip() if job_card.find('span', class_='salaryText') else 'N/A'\n",
    "        job['link'] = 'https://www.indeed.com' + job_card.find('a').get('href')\n",
    "        jobs.append(job)\n",
    "    return jobs\n",
    "all_jobs = []\n",
    "for title in job_titles:\n",
    "    all_jobs.extend(scrape_jobs(title))"
   ]
  },
  {
   "cell_type": "code",
   "execution_count": 12,
   "id": "6ef0a56d-41b3-46c4-84b6-c15af0f5f037",
   "metadata": {},
   "outputs": [],
   "source": [
    "import psycopg2"
   ]
  },
  {
   "cell_type": "code",
   "execution_count": 14,
   "id": "2946b34a-f882-4300-a4f8-fe2aabfe6b24",
   "metadata": {},
   "outputs": [],
   "source": [
    "conn = psycopg2.connect(\n",
    "    dbname = \"IndeedJobs\",\n",
    "    user = \"postgres\",\n",
    "    password = \"Gloria@22\",\n",
    "    host= \"localhost\",\n",
    "    port = \"5432\"\n",
    ")\n",
    "cursor = conn.cursor()"
   ]
  },
  {
   "cell_type": "code",
   "execution_count": 15,
   "id": "9d73eef3-98ae-4730-a606-6747a4a4ac42",
   "metadata": {},
   "outputs": [],
   "source": [
    "cursor.execute('''\n",
    "CREATE TABLE IF NOT EXISTS job_listings (\n",
    "    id SERIAL PRIMARY KEY,\n",
    "    title TEXT,\n",
    "    company TEXT,\n",
    "    location TEXT,\n",
    "    summary TEXT,\n",
    "    salary TEXT,\n",
    "    link TEXT\n",
    ")\n",
    "''')\n",
    "conn.commit()\n"
   ]
  },
  {
   "cell_type": "code",
   "execution_count": 16,
   "id": "b96b585f-f2c0-456e-82cf-021c68c5350b",
   "metadata": {},
   "outputs": [],
   "source": [
    "for job in all_jobs:\n",
    "    cursor.execute('''\n",
    "    INSERT INTO job_listings (title, company, location, summary, salary, link)\n",
    "    VALUES (%s, %s, %s, %s, %s, %s)\n",
    "    ''', (job['title'], job['company'], job['location'], job['summary'], job['salary'], job['link']))\n",
    "conn.commit()\n"
   ]
  },
  {
   "cell_type": "code",
   "execution_count": null,
   "id": "4b3cfad9-d9dc-4048-ae5c-77c4f39fc5a6",
   "metadata": {},
   "outputs": [],
   "source": []
  }
 ],
 "metadata": {
  "kernelspec": {
   "display_name": "Python 3 (ipykernel)",
   "language": "python",
   "name": "python3"
  },
  "language_info": {
   "codemirror_mode": {
    "name": "ipython",
    "version": 3
   },
   "file_extension": ".py",
   "mimetype": "text/x-python",
   "name": "python",
   "nbconvert_exporter": "python",
   "pygments_lexer": "ipython3",
   "version": "3.9.19"
  }
 },
 "nbformat": 4,
 "nbformat_minor": 5
}
